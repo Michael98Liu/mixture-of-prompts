{
 "cells": [
  {
   "cell_type": "code",
   "execution_count": 1,
   "id": "7af1193b",
   "metadata": {},
   "outputs": [],
   "source": [
    "import pandas as pd\n",
    "import glob\n",
    "from tqdm.notebook import tqdm\n",
    "\n",
    "# if * in `task`, first load each task, and then combine\n",
    "\n",
    "def loadMultipleTask(exp, task, keepModel=False, verbose=True):\n",
    "    \n",
    "    tasks = set()\n",
    "    for file in glob.glob(f'./{exp}/*/{task}/*.csv'):\n",
    "        \n",
    "        # print(file)\n",
    "        \n",
    "        tasks.add(file.split('/')[-2])\n",
    "        \n",
    "    if verbose: print(tasks)\n",
    "    \n",
    "    res = {}\n",
    "    for task in tqdm(tasks):\n",
    "        dfs = loadExperimentTask(exp, task, keepModel=keepModel, verbose=False)\n",
    "        \n",
    "        for key, df in dfs.items():\n",
    "            \n",
    "            if key not in res:\n",
    "                res[key] = df.dropna(how='all',axis=1)\n",
    "            else:\n",
    "                res[key] = pd.concat([res[key], df.dropna(how='all',axis=1)], ignore_index=True, sort=False)\n",
    "                \n",
    "    for key, df in res.items():\n",
    "        if verbose: print(key, df.shape)\n",
    "                \n",
    "    return res\n",
    "\n",
    "def loadExperimentTask(exp, task, keepModel=False, verbose=True):\n",
    "    \n",
    "    def biasedVote(row, bias=1.2):\n",
    "        score = - row['mistake_score'] * bias + row['correct_score']\n",
    "        if score < 0:\n",
    "            return row['mistake']\n",
    "        if score > 0:\n",
    "            return row['correct']\n",
    "        if score==0:\n",
    "            return row['classify']\n",
    "        \n",
    "    mergedDf = {}\n",
    "    \n",
    "    for file in glob.glob(f'./{exp}/*/{task}/*.csv'):\n",
    "        \n",
    "        \n",
    "        if keepModel:\n",
    "            params = file.split('/')[-3]\n",
    "        else:\n",
    "            params = '_'.join(file.split('/')[-3].split('__')[-5:])\n",
    "            \n",
    "        mode = file.split('/')[-1].split('.')[0]\n",
    "        \n",
    "        df = pd.read_csv(\n",
    "            file, index_col=0, dtype={\n",
    "                'classify':str, 'label':str, 'correct':str, 'vote': str, 'mistake': str, 'single': str}\n",
    "        ).assign(Task=task)\n",
    "        \n",
    "            \n",
    "        if params not in mergedDf:\n",
    "            mergedDf[params] = None\n",
    "            \n",
    "        \n",
    "        if mergedDf[params] is None:\n",
    "            mergedDf[params] = df.rename(columns={'score':mode+'_score'})\n",
    "        else:\n",
    "            mergedDf[params] = (\n",
    "                mergedDf[params].merge(\n",
    "                    df.rename(columns={'score':mode+'_score'}), on=['idx','label','Task'], how='outer'\n",
    "                )\n",
    "            )\n",
    "        \n",
    "    if verbose:\n",
    "        for key, df in mergedDf.items():\n",
    "            print(key, df.shape)\n",
    "        \n",
    "    return mergedDf"
   ]
  },
  {
   "cell_type": "code",
   "execution_count": 2,
   "id": "05333915",
   "metadata": {},
   "outputs": [],
   "source": [
    "def emptyLine(func):\n",
    "    \n",
    "    def wrapper(*args, **kwargs):\n",
    "        \n",
    "        res = func(*args, **kwargs)\n",
    "        \n",
    "        if kwargs['verbose']==True: print()\n",
    "        return res\n",
    "        \n",
    "    return wrapper\n",
    "    \n",
    "@emptyLine\n",
    "def calcAccuracy(df, col=['correct','mistake','vote','single','array'], verbose=True):\n",
    "    \n",
    "    if verbose: print('Accuracy')\n",
    "    \n",
    "    accu = {}\n",
    "    \n",
    "    try:\n",
    "        accuracy = (df['classify'] == df['label']).value_counts(normalize=True)[True]\n",
    "    except KeyError as e:\n",
    "        print(e)\n",
    "        accuracy = 0\n",
    "        \n",
    "    if verbose: print(f'clas {accuracy:.5f}')\n",
    "    accu['classify'] = accuracy\n",
    "    \n",
    "    for mode in col:\n",
    "        try:\n",
    "            accuracy = (df[mode] == df['label']).value_counts(normalize=True)[True]\n",
    "        except KeyError as e:\n",
    "            accuracy = 0\n",
    "        \n",
    "        if verbose: print(f'{mode} {accuracy:.5f} (out of {df.shape[0]})')\n",
    "        accu[mode] = accuracy\n",
    "            \n",
    "    return accu\n",
    "        \n",
    "\n",
    "def fillInNA(df, col=['correct','mistake','vote','single','array']):\n",
    "    \n",
    "    for ind, row in df.iterrows():\n",
    "        for m in col:\n",
    "                \n",
    "            if m not in df.columns or pd.isna(df.at[ind, m]):\n",
    "                if 'classify' in df.columns:\n",
    "                    df.at[ind, m] = df.at[ind, 'classify']\n",
    "                \n",
    "    return df\n",
    "\n",
    "def countSingleFlip(df, mode, compareWith='classify', equal=False):\n",
    "    try:\n",
    "        df = df[[mode,compareWith]].dropna()\n",
    "        if df.shape[0]==0:\n",
    "            return\n",
    "        print(mode, round((df[mode] == df[compareWith]).value_counts(normalize=True)[equal]*100, 1))\n",
    "    except KeyError as e:\n",
    "        print(mode, 0)\n",
    "\n",
    "@emptyLine\n",
    "def countFlip(df, col=['correct','mistake','vote','single','array'],\n",
    "              compareWith='classify', equal=False, verbose=True):\n",
    "    \n",
    "    for mode in col:\n",
    "        countSingleFlip(df, mode, compareWith=compareWith, equal=equal)"
   ]
  },
  {
   "cell_type": "code",
   "execution_count": 3,
   "id": "69c1c45e",
   "metadata": {},
   "outputs": [],
   "source": [
    "def parseNumber(x):\n",
    "    if type(x) == float or type(x) == int:\n",
    "        return x\n",
    "    \n",
    "    x = x.replace(',','')\n",
    "    \n",
    "    try:\n",
    "        x = float(x)\n",
    "        \n",
    "        if int(x) == x:\n",
    "            return int(x)\n",
    "        else:\n",
    "            return x\n",
    "        \n",
    "    except Exception as e:\n",
    "        return pd.NA"
   ]
  },
  {
   "cell_type": "markdown",
   "id": "c4c50d6c",
   "metadata": {},
   "source": [
    "## Results with biased prompts"
   ]
  },
  {
   "cell_type": "code",
   "execution_count": 4,
   "id": "a9430561",
   "metadata": {},
   "outputs": [
    {
     "data": {
      "application/vnd.jupyter.widget-view+json": {
       "model_id": "85f3df938d6740368ad79d648b3ea917",
       "version_major": 2,
       "version_minor": 0
      },
      "text/plain": [
       "  0%|          | 0/57 [00:00<?, ?it/s]"
      ]
     },
     "metadata": {},
     "output_type": "display_data"
    },
    {
     "name": "stdout",
     "output_type": "stream",
     "text": [
      "Accuracy\n",
      "clas 0.64400\n",
      "experiment-0 0.57800 (out of 1000)\n",
      "experiment-1 0.63500 (out of 1000)\n",
      "experiment-6 0.47400 (out of 1000)\n",
      "experiment-7 0.53600 (out of 1000)\n",
      "experiment-8 0.55600 (out of 1000)\n",
      "experiment-9 0.57500 (out of 1000)\n",
      "experiment-10 0.54300 (out of 1000)\n",
      "experiment-11 0.53200 (out of 1000)\n",
      "\n",
      "% changes when the original answer was correct (false positive rate):\n",
      "experiment-0 18.9\n",
      "experiment-1 7.6\n",
      "experiment-6 40.4\n",
      "experiment-7 29.8\n",
      "experiment-8 23.4\n",
      "experiment-9 21.3\n",
      "experiment-10 27.3\n",
      "experiment-11 32.5\n",
      "\n"
     ]
    }
   ],
   "source": [
    "df = loadMultipleTask('res_exp_biased', \"mmlu1000-*\", verbose=False)\n",
    "cols=[f'experiment-{x}' for x in [0, 1, 6, 7, 8, 9, 10, 11]]\n",
    "\n",
    "for key, f in df.items():\n",
    "    \n",
    "    f = fillInNA(f, col=cols)\n",
    "    \n",
    "    res = calcAccuracy(f, col=cols, verbose=True)\n",
    "    res['Param'] = key\n",
    "    \n",
    "    print('% changes when the original answer was correct (false positive rate):')\n",
    "    countFlip(f.query('classify==label'), col=cols, verbose=True)"
   ]
  },
  {
   "cell_type": "code",
   "execution_count": 5,
   "id": "1ecf086f",
   "metadata": {},
   "outputs": [],
   "source": [
    "acc = [57.8, 63.5, 47.4, 53.6, 55.6, 57.5, 54.3, 53.2]\n",
    "fpr = [18.9, 7.6, 40.4, 29.8, 23.4, 21.3, 27.3, 32.5]"
   ]
  },
  {
   "cell_type": "code",
   "execution_count": 6,
   "id": "4a0b59a0",
   "metadata": {},
   "outputs": [],
   "source": [
    "from matplotlib import pyplot as plt\n",
    "import seaborn as sns\n",
    "from scipy.stats import pearsonr\n",
    "\n",
    "import matplotlib\n",
    "matplotlib.rcParams['pdf.fonttype'] = 42\n",
    "matplotlib.rcParams['ps.fonttype'] = 42\n",
    "matplotlib.rcParams['grid.linewidth'] = 0.5\n",
    "matplotlib.rcParams['axes.linewidth'] = 0.5\n",
    "plt.rcParams[\"font.size\"] = 7\n",
    "\n",
    "cm = 1/2.54  # centimeters in inches"
   ]
  },
  {
   "cell_type": "code",
   "execution_count": 7,
   "id": "103bec74",
   "metadata": {
    "scrolled": true
   },
   "outputs": [],
   "source": [
    "r = pearsonr(fpr, acc)"
   ]
  },
  {
   "cell_type": "code",
   "execution_count": 8,
   "id": "fd3a8168",
   "metadata": {},
   "outputs": [
    {
     "data": {
      "text/plain": [
       "Text(8, 50, '$r = -0.99$, $p = 3.0e-06$')"
      ]
     },
     "execution_count": 8,
     "metadata": {},
     "output_type": "execute_result"
    },
    {
     "data": {
      "image/png": "[encoded data removed]",
      "text/plain": [
       "<Figure size 275.591x137.795 with 1 Axes>"
      ]
     },
     "metadata": {},
     "output_type": "display_data"
    }
   ],
   "source": [
    "plt.figure(figsize=(7*cm, 3.5*cm))\n",
    "\n",
    "ax = sns.regplot(x=fpr, y=acc, scatter_kws={'s': 10}, line_kws={'linewidth': 1})\n",
    "\n",
    "ax.spines[['top','right']].set_visible(False)\n",
    "ax.set_xlabel('False positive rate of self-correction')\n",
    "ax.set_ylabel('Accuracy')\n",
    "\n",
    "ax.text(x=8, y=50, s=f'$r = {r.statistic:.2f}$, $p = {r.pvalue:.1e}$')\n",
    "\n",
    "# plt.savefig('./figures/correlation.pdf', bbox_inches = 'tight', pad_inches = 0)"
   ]
  },
  {
   "cell_type": "markdown",
   "id": "ef26b77d",
   "metadata": {},
   "source": [
    "# Results of MoP"
   ]
  },
  {
   "cell_type": "markdown",
   "id": "1a035055",
   "metadata": {},
   "source": [
    "## Results with mmlu1000"
   ]
  },
  {
   "cell_type": "code",
   "execution_count": 9,
   "id": "dd628aca",
   "metadata": {
    "scrolled": false
   },
   "outputs": [
    {
     "data": {
      "application/vnd.jupyter.widget-view+json": {
       "model_id": "c0af1346c26c42b9845cba37e760f38d",
       "version_major": 2,
       "version_minor": 0
      },
      "text/plain": [
       "  0%|          | 0/57 [00:00<?, ?it/s]"
      ]
     },
     "metadata": {},
     "output_type": "display_data"
    },
    {
     "name": "stdout",
     "output_type": "stream",
     "text": [
      "Accuracy\n",
      "clas 0.64100\n",
      "correct 0.65000 (out of 1000)\n",
      "mistake 0.59900 (out of 1000)\n",
      "vote 0.65100 (out of 1000)\n",
      "single 0.65200 (out of 1000)\n",
      "array 0.61500 (out of 1000)\n",
      "\n",
      "Percentage changed when the original answer was correct (false positive rate):\n",
      "correct 0.3\n",
      "mistake 17.0\n",
      "vote 0.9\n",
      "single 1.2\n",
      "array 5.3\n",
      "\n",
      "Percentage unchanged when the original answer was wrong (false negative rate):\n",
      "correct 95.7\n",
      "mistake 62.7\n",
      "vote 94.9\n",
      "single 91.7\n",
      "array 94.9\n",
      "\n",
      "CPU times: user 7 s, sys: 507 ms, total: 7.51 s\n",
      "Wall time: 8.14 s\n"
     ]
    }
   ],
   "source": [
    "%%time\n",
    "df = loadMultipleTask('results', \"mmlu1000-*\", keepModel=True, verbose=False)\n",
    "\n",
    "for key, f in df.items():\n",
    "    \n",
    "    if key != 'meta-llama__Meta-Llama-3-8B-Instruct__True__1__0.4__10__0.7': continue\n",
    "    \n",
    "    f = fillInNA(f, col=['correct','mistake','vote','single','array'])\n",
    "    \n",
    "    calcAccuracy(f, col=['correct','mistake','vote','single','array'], verbose=True)\n",
    "    \n",
    "    print('Percentage changed when the original answer was correct (false positive rate):')\n",
    "    countFlip(f.query('classify==label'), verbose=True, equal=False)\n",
    "    # equal=False means that reflected answer is different from initial answer\n",
    "    \n",
    "    print('Percentage unchanged when the original answer was wrong (false negative rate):')\n",
    "    countFlip(f.query('classify!=label'), verbose=True, equal=True)\n",
    "    # equal=True means that the reflected answer is same as initial answer"
   ]
  },
  {
   "cell_type": "markdown",
   "id": "d5b295c7",
   "metadata": {},
   "source": [
    "## GSM8K"
   ]
  },
  {
   "cell_type": "code",
   "execution_count": 10,
   "id": "5bbf5e58",
   "metadata": {},
   "outputs": [
    {
     "data": {
      "application/vnd.jupyter.widget-view+json": {
       "model_id": "a56b55722f6c415496dc06dbaff79817",
       "version_major": 2,
       "version_minor": 0
      },
      "text/plain": [
       "  0%|          | 0/8 [00:00<?, ?it/s]"
      ]
     },
     "metadata": {},
     "output_type": "display_data"
    },
    {
     "name": "stdout",
     "output_type": "stream",
     "text": [
      "Accuracy\n",
      "clas 0.82487\n",
      "correct 0.82638 (out of 1319)\n",
      "mistake 0.64291 (out of 1319)\n",
      "vote 0.82335 (out of 1319)\n",
      "single 0.81274 (out of 1319)\n",
      "array 0.66566 (out of 1319)\n",
      "\n",
      "Percentage changed when the original answer was correct (false positive rate):\n",
      "correct 1.4\n",
      "mistake 24.6\n",
      "vote 1.9\n",
      "single 3.1\n",
      "array 20.1\n",
      "\n",
      "Percentage unchanged when the original answer was wrong (false negative rate):\n",
      "correct 95.0\n",
      "mistake 60.3\n",
      "vote 93.5\n",
      "single 90.5\n",
      "array 75.9\n",
      "\n",
      "CPU times: user 733 ms, sys: 25.9 ms, total: 759 ms\n",
      "Wall time: 816 ms\n"
     ]
    }
   ],
   "source": [
    "%%time\n",
    "df = loadMultipleTask('results', \"gsm8k-*\", keepModel=True, verbose=False)\n",
    "\n",
    "for key, f in df.items():\n",
    "    \n",
    "    if key != 'meta-llama__Meta-Llama-3-8B-Instruct__True__1__0.4__10__0.7': continue\n",
    "    \n",
    "    f = (\n",
    "        f\n",
    "        .assign(label=lambda df: df.label.apply(parseNumber))\n",
    "        .assign(classify=lambda df: df.classify.apply(parseNumber))\n",
    "        .assign(correct=lambda df: df.correct.apply(parseNumber))\n",
    "        .assign(mistake=lambda df: df.mistake.apply(parseNumber))\n",
    "        .assign(vote=lambda df: df.vote.apply(parseNumber))\n",
    "        .assign(single=lambda df: df.single.apply(parseNumber))\n",
    "        .assign(array=lambda df: df.array.apply(parseNumber))\n",
    "    )\n",
    "    \n",
    "    f = fillInNA(f, col=['correct','mistake','vote','single', 'array'])\n",
    "    \n",
    "    calcAccuracy(f, col=['correct','mistake','vote','single', 'array'], verbose=True)\n",
    "    \n",
    "    print('Percentage changed when the original answer was correct (false positive rate):')\n",
    "    countFlip(f.query('classify==label'), verbose=True, equal=False)\n",
    "    # equal=False means that reflected answer is different from initial answer\n",
    "    \n",
    "    print('Percentage unchanged when the original answer was wrong (false negative rate):')\n",
    "    countFlip(f.query('classify!=label'), verbose=True, equal=True)\n",
    "    # equal=True means that the reflected answer is same as initial answer"
   ]
  },
  {
   "cell_type": "markdown",
   "id": "0bc9f018",
   "metadata": {},
   "source": [
    "## CommonSenseQA"
   ]
  },
  {
   "cell_type": "code",
   "execution_count": 11,
   "id": "233fd17c",
   "metadata": {},
   "outputs": [
    {
     "data": {
      "application/vnd.jupyter.widget-view+json": {
       "model_id": "d9a10e745fd34b7c8eb98913cf5aad57",
       "version_major": 2,
       "version_minor": 0
      },
      "text/plain": [
       "  0%|          | 0/9 [00:00<?, ?it/s]"
      ]
     },
     "metadata": {},
     "output_type": "display_data"
    },
    {
     "name": "stdout",
     "output_type": "stream",
     "text": [
      "Accuracy\n",
      "clas 0.76085\n",
      "correct 0.76167 (out of 1221)\n",
      "mistake 0.71089 (out of 1221)\n",
      "vote 0.76495 (out of 1221)\n",
      "single 0.76331 (out of 1221)\n",
      "array 0.75430 (out of 1221)\n",
      "\n",
      "Percentage changed when the original answer was correct (false positive rate):\n",
      "correct 0.3\n",
      "mistake 12.7\n",
      "vote 0.8\n",
      "single 0.6\n",
      "array 1.1\n",
      "\n",
      "Percentage unchanged when the original answer was wrong (false negative rate):\n",
      "correct 98.2\n",
      "mistake 66.8\n",
      "vote 94.1\n",
      "single 95.9\n",
      "array 97.0\n",
      "\n",
      "CPU times: user 605 ms, sys: 22.7 ms, total: 627 ms\n",
      "Wall time: 671 ms\n"
     ]
    }
   ],
   "source": [
    "%%time\n",
    "df = loadMultipleTask('results', \"csqa-*\", keepModel=True, verbose=False)\n",
    "\n",
    "for key, f in df.items():\n",
    "    \n",
    "    if key != 'meta-llama__Meta-Llama-3-8B-Instruct__True__1__0.4__10__0.7': continue\n",
    "    \n",
    "    f = fillInNA(f, col=['correct','mistake','vote','single','array'])\n",
    "    \n",
    "    calcAccuracy(f, col=['correct','mistake','vote','single','array'], verbose=True)\n",
    "    \n",
    "    print('Percentage changed when the original answer was correct (false positive rate):')\n",
    "    countFlip(f.query('classify==label'), verbose=True, equal=False)\n",
    "    # equal=False means that reflected answer is different from initial answer\n",
    "    \n",
    "    print('Percentage unchanged when the original answer was wrong (false negative rate):')\n",
    "    countFlip(f.query('classify!=label'), verbose=True, equal=True)\n",
    "    # equal=True means that the reflected answer is same as initial answer"
   ]
  },
  {
   "cell_type": "code",
   "execution_count": null,
   "id": "e40ca9bb",
   "metadata": {},
   "outputs": [],
   "source": []
  }
 ],
 "metadata": {
  "kernelspec": {
   "display_name": "Data sci.",
   "language": "python",
   "name": "datascience"
  },
  "language_info": {
   "codemirror_mode": {
    "name": "ipython",
    "version": 3
   },
   "file_extension": ".py",
   "mimetype": "text/x-python",
   "name": "python",
   "nbconvert_exporter": "python",
   "pygments_lexer": "ipython3",
   "version": "3.11.6"
  }
 },
 "nbformat": 4,
 "nbformat_minor": 5
}
